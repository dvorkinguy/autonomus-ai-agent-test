{
  "nbformat": 4,
  "nbformat_minor": 0,
  "metadata": {
    "colab": {
      "provenance": [],
      "authorship_tag": "ABX9TyOeyc0nSv8QJT37ku/A5Wy2",
      "include_colab_link": true
    },
    "kernelspec": {
      "name": "python3",
      "display_name": "Python 3"
    },
    "language_info": {
      "name": "python"
    }
  },
  "cells": [
    {
      "cell_type": "markdown",
      "metadata": {
        "id": "view-in-github",
        "colab_type": "text"
      },
      "source": [
        "<a href=\"https://colab.research.google.com/github/dvorkinguy/autonomus-ai-agent-test/blob/v02/Autonomus_AI_Python_Agent_v02.ipynb\" target=\"_parent\"><img src=\"https://colab.research.google.com/assets/colab-badge.svg\" alt=\"Open In Colab\"/></a>"
      ]
    },
    {
      "cell_type": "code",
      "source": [
        "!pip install -q openai replicate requests tenacity"
      ],
      "metadata": {
        "id": "EZtBTkRAvdB_"
      },
      "execution_count": null,
      "outputs": []
    },
    {
      "cell_type": "code",
      "execution_count": null,
      "metadata": {
        "id": "_FGoyt50vR8R"
      },
      "outputs": [],
      "source": [
        "# ------------\n",
        "# ENVIRONMENT SETUP\n",
        "# ------------\n",
        "from google.colab import userdata  # For Colab secrets\n",
        "from openai import OpenAI\n",
        "import replicate\n",
        "import os\n",
        "import json\n",
        "from tenacity import retry, stop_after_attempt, wait_exponential\n",
        "from IPython import get_ipython\n",
        "\n",
        "def get_secret(key):\n",
        "    ipython = get_ipython()\n",
        "    if 'google.colab' in str(ipython):\n",
        "        from google.colab import userdata\n",
        "        return userdata.get(key)\n",
        "    else:\n",
        "        import os\n",
        "        return os.environ.get(key)\n",
        "\n",
        "# Initialize API keys securely\n",
        "openai_api_key = get_secret('OPENAI_API_KEY')\n",
        "replicate_api_token = get_secret('REPLICATE_API_TOKEN')\n",
        "perplexity_api_key = get_secret('PERPLEXITY_API_KEY')\n",
        "\n",
        "# Handle missing keys\n",
        "if not openai_api_key:\n",
        "    openai_api_key = input(\"Please enter your OpenAI API Key: \")\n",
        "if not replicate_api_token:\n",
        "    replicate_api_token = input(\"Please enter your Replicate API Token: \")\n",
        "if not perplexity_api_key:\n",
        "    perplexity_api_key = input(\"Please enter your Perplexity API Key: \")\n",
        "\n",
        "os.environ.update({\n",
        "    \"OPENAI_API_KEY\": openai_api_key,\n",
        "    \"REPLICATE_API_TOKEN\": replicate_api_token,\n",
        "    \"PERPLEXITY_API_KEY\": perplexity_api_key\n",
        "})\n",
        "\n",
        "# Initialize clients\n",
        "openai_client = OpenAI()\n",
        "perplexity_client = OpenAI(\n",
        "    api_key=os.environ[\"PERPLEXITY_API_KEY\"],\n",
        "    base_url=\"https://api.perplexity.ai\"\n",
        ")\n",
        "replicate_client = replicate.Client(api_token=os.environ[\"REPLICATE_API_TOKEN\"])"
      ]
    },
    {
      "cell_type": "code",
      "source": [
        "# ------------\n",
        "# IMAGE PROMPT AGENT\n",
        "# ------------\n",
        "def image_prompt_agent(user_input):  # Fixed typo in function name\n",
        "    print(\"\\nWriting prompt for image generation...\")\n",
        "    response = openai_client.chat.completions.create(\n",
        "        model=\"gpt-4o\",  # Updated model name\n",
        "        messages=[\n",
        "            {\"role\": \"system\", \"content\": \"You are an expert prompt writer. You specialize in writing descriptive prompts for the AI image tool Stable Diffusion.\"},\n",
        "            {\"role\": \"user\", \"content\": f\"Write a concise prompt for this {user_input}. Always include: 'text saying Za Best in Za West!'. Only output the prompt itself, no extra text.\"}\n",
        "        ]\n",
        "    )\n",
        "    prompt = response.choices[0].message.content\n",
        "    print(\"Generated prompt:\", prompt)\n",
        "    return prompt"
      ],
      "metadata": {
        "id": "GZoFSlpivnT9"
      },
      "execution_count": null,
      "outputs": []
    },
    {
      "cell_type": "code",
      "source": [
        "# ------------\n",
        "# IMAGE GENERATION\n",
        "# ------------\n",
        "def generate_image(prompt: str,\n",
        "                     negative_prompt: str = \"blur, non-realistic, low quality\") -> str:\n",
        "    if len(prompt.strip()) < 30:  # Reduced minimum length\n",
        "        raise ValueError(\"Prompt must be at least 20 characters\")\n",
        "\n",
        "    try:\n",
        "        output = replicate.run(\n",
        "            \"stability-ai/stable-diffusion-3\",\n",
        "            input={\n",
        "                \"prompt\": prompt,\n",
        "                \"negative_prompt\": negative_prompt,\n",
        "                \"cfg\": 5.0,  # Valid range: 1-5\n",
        "                \"steps\": 28,  # Max 28 steps\n",
        "                \"aspect_ratio\": \"3:2\",\n",
        "                \"output_format\": \"png\",\n",
        "                \"output_quality\": 90,\n",
        "                \"prompt_strength\": 1.0\n",
        "            }\n",
        "        )\n",
        "        return output[0]  # Return first image URL\n",
        "    except Exception as e:\n",
        "        raise RuntimeError(f\"Image generation failed: {str(e)}\")"
      ],
      "metadata": {
        "id": "EYkSP1asv1bL"
      },
      "execution_count": null,
      "outputs": []
    },
    {
      "cell_type": "code",
      "source": [
        "# ------------\n",
        "# DECISION AGENT\n",
        "# ------------\n",
        "def decision_agent(user_input):\n",
        "    response = openai_client.chat.completions.create(\n",
        "        model=\"gpt-4o\",  # Updated model name\n",
        "        messages=[\n",
        "            {\"role\": \"system\", \"content\": \"\"\"You are a decision-making agent. Analyze the user's input and decide whether to use the \"generate_image\" tool or the \"web_browsing\" tool.\n",
        "                                          Output your decision in JSON format with 'reasoning' and 'tool' fields.\n",
        "                                          The JSON should start and end with curly brackets, with no additional text.\n",
        "                                          Example format:\n",
        "                                          {\n",
        "                                            \"reasoning\": \"Thorough explanation for the decision...\",\n",
        "                                            \"tool\": \"generate_image\" or \"web_browsing\".\"\n",
        "                                          }\n",
        "                                          Do NOT output any text other than the JSON.\"\"\"},\n",
        "            {\"role\": \"user\", \"content\": f\"Decide the best tool for this task: {user_input}. Output ONLY the JSON with 'reasoning' and 'tool' fields, nothing else.\"}\n",
        "        ]\n",
        "    )\n",
        "\n",
        "    try:\n",
        "        return json.loads(response.choices[0].message.content)\n",
        "    except json.JSONDecodeError:\n",
        "        return {\"tool\": \"web_browsing\", \"reasoning\": \"Default to search\"}"
      ],
      "metadata": {
        "id": "QUgOyE-vv58n"
      },
      "execution_count": null,
      "outputs": []
    },
    {
      "cell_type": "code",
      "source": [
        "# ------------\n",
        "# WEB BROWSING\n",
        "# ------------\n",
        "def web_browsing(query):\n",
        "    print(\"\\nSearching the web...\")\n",
        "    response = perplexity_client.chat.completions.create(\n",
        "        model=\"sonar-reasoning\",  # Updated model name\n",
        "        messages=[\n",
        "            {\"role\": \"system\", \"content\": \"Provide a concise answer based on web search.\"},\n",
        "            {\"role\": \"user\", \"content\": query}\n",
        "        ]\n",
        "    )\n",
        "    print(\"\\nSearch results:\")\n",
        "    print(response.choices[0].message.content)"
      ],
      "metadata": {
        "id": "lbkx90JIv-xW"
      },
      "execution_count": null,
      "outputs": []
    },
    {
      "cell_type": "code",
      "source": [
        "# ------------\n",
        "# MAIN FLOW\n",
        "# ------------\n",
        "def get_user_input():\n",
        "    return input(\"\\nWhat would you like to create or research? \")\n",
        "\n",
        "def execute_decision(decision, user_input):\n",
        "    print(f\"\\nDecision: {decision['tool'].upper()}\")\n",
        "    print(f\"Reason: {decision['reasoning']}\")\n",
        "\n",
        "    if decision[\"tool\"] == \"generate_image\":\n",
        "        prompt = image_prompt_agent(user_input)\n",
        "        image_url = generate_ai_image(prompt)\n",
        "        print(f\"\\nGenerated image URL: {image_url}\")\n",
        "    elif decision[\"tool\"] == \"web_browsing\":\n",
        "        web_browsing(user_input)\n",
        "    else:\n",
        "        print(\"Invalid tool selected\")\n",
        "\n",
        "# Run the full workflow\n",
        "user_input = get_user_input()\n",
        "decision = decision_agent(user_input)\n",
        "execute_decision(decision, user_input)"
      ],
      "metadata": {
        "id": "8mEN3y7wwCDo"
      },
      "execution_count": null,
      "outputs": []
    }
  ]
}